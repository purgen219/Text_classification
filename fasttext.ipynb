{
  "nbformat": 4,
  "nbformat_minor": 0,
  "metadata": {
    "kernelspec": {
      "display_name": "Python 3",
      "language": "python",
      "name": "python3"
    },
    "language_info": {
      "codemirror_mode": {
        "name": "ipython",
        "version": 3
      },
      "file_extension": ".py",
      "mimetype": "text/x-python",
      "name": "python",
      "nbconvert_exporter": "python",
      "pygments_lexer": "ipython3",
      "version": "3.6.8"
    },
    "colab": {
      "name": "fasttext.ipynb",
      "provenance": [],
      "collapsed_sections": [],
      "toc_visible": true,
      "machine_shape": "hm",
      "include_colab_link": true
    },
    "accelerator": "GPU"
  },
  "cells": [
    {
      "cell_type": "markdown",
      "metadata": {
        "id": "view-in-github",
        "colab_type": "text"
      },
      "source": [
        "<a href=\"https://colab.research.google.com/github/purgen219/Text_classification/blob/master/fasttext.ipynb\" target=\"_parent\"><img src=\"https://colab.research.google.com/assets/colab-badge.svg\" alt=\"Open In Colab\"/></a>"
      ]
    },
    {
      "cell_type": "markdown",
      "metadata": {
        "id": "2qcEppj01iL_",
        "colab_type": "text"
      },
      "source": [
        "# Lib"
      ]
    },
    {
      "cell_type": "code",
      "metadata": {
        "id": "ePyiSZlP1iMG",
        "colab_type": "code",
        "colab": {}
      },
      "source": [
        "#!pip install imblearn\n",
        "#!pip install fasttext\n",
        "#!pip install gensim\n",
        "\n",
        "#!wget https://github.com/facebookresearch/fastText/archive/v0.9.2.zip\n",
        "\n",
        "#!wget https://dl.fbaipublicfiles.com/fasttext/vectors-crawl/cc.ru.300.vec.gz\n",
        "#!gzip -d cc.ru.300.vec.gz"
      ],
      "execution_count": 0,
      "outputs": []
    },
    {
      "cell_type": "code",
      "metadata": {
        "id": "XJ_sdZMu1iMK",
        "colab_type": "code",
        "colab": {}
      },
      "source": [
        "import pandas as pd\n",
        "import numpy as np\n",
        "import scipy.stats as sc\n",
        "\n",
        "\n",
        "import sklearn.model_selection\n",
        "from sklearn.metrics import roc_auc_score\n",
        "from sklearn.linear_model import LogisticRegression\n",
        "from sklearn.model_selection import GridSearchCV\n",
        "from sklearn.ensemble import RandomForestClassifier\n",
        "from sklearn.model_selection import RandomizedSearchCV\n",
        "from sklearn.feature_extraction.text import TfidfVectorizer\n",
        "\n",
        "import fasttext\n",
        "import fasttext.util\n",
        "\n",
        "import re\n",
        "import imblearn\n",
        "from imblearn.over_sampling import RandomOverSampler\n",
        "import gensim.downloader \n",
        "from gensim.models import KeyedVectors\n",
        "import nltk\n",
        "\n",
        "from xgboost import XGBClassifier\n",
        "import xgboost as xgb\n",
        "import xgboost as xgb\n",
        "\n",
        "import time"
      ],
      "execution_count": 0,
      "outputs": []
    },
    {
      "cell_type": "markdown",
      "metadata": {
        "id": "eNzfkmU1eM0U",
        "colab_type": "text"
      },
      "source": [
        "# Data"
      ]
    },
    {
      "cell_type": "code",
      "metadata": {
        "id": "gRpf7zGQ1iMO",
        "colab_type": "code",
        "outputId": "523bc055-a730-413e-a3f4-31b4c1100c72",
        "colab": {
          "base_uri": "https://localhost:8080/",
          "height": 359
        }
      },
      "source": [
        "data = pd.read_csv('PsyHack_RUDN_train.csv', sep='\\t' , encoding= 'utf-8')\n",
        "data['label'] = data['label'] == 'Depression'\n",
        "data.head(10)"
      ],
      "execution_count": 20,
      "outputs": [
        {
          "output_type": "execute_result",
          "data": {
            "text/html": [
              "<div>\n",
              "<style scoped>\n",
              "    .dataframe tbody tr th:only-of-type {\n",
              "        vertical-align: middle;\n",
              "    }\n",
              "\n",
              "    .dataframe tbody tr th {\n",
              "        vertical-align: top;\n",
              "    }\n",
              "\n",
              "    .dataframe thead th {\n",
              "        text-align: right;\n",
              "    }\n",
              "</style>\n",
              "<table border=\"1\" class=\"dataframe\">\n",
              "  <thead>\n",
              "    <tr style=\"text-align: right;\">\n",
              "      <th></th>\n",
              "      <th>ID</th>\n",
              "      <th>label</th>\n",
              "      <th>text</th>\n",
              "    </tr>\n",
              "  </thead>\n",
              "  <tbody>\n",
              "    <tr>\n",
              "      <th>0</th>\n",
              "      <td>307</td>\n",
              "      <td>False</td>\n",
              "      <td>С детства я люблю футбол. Самые теплые воспоми...</td>\n",
              "    </tr>\n",
              "    <tr>\n",
              "      <th>1</th>\n",
              "      <td>243</td>\n",
              "      <td>False</td>\n",
              "      <td>Каждому человеку нужен мир. Мир- это весь земн...</td>\n",
              "    </tr>\n",
              "    <tr>\n",
              "      <th>2</th>\n",
              "      <td>73</td>\n",
              "      <td>False</td>\n",
              "      <td>Я, другие и мир. Да, именно в таком порядке ме...</td>\n",
              "    </tr>\n",
              "    <tr>\n",
              "      <th>3</th>\n",
              "      <td>301</td>\n",
              "      <td>False</td>\n",
              "      <td>Позиционирование себя как полноценного человек...</td>\n",
              "    </tr>\n",
              "    <tr>\n",
              "      <th>4</th>\n",
              "      <td>60</td>\n",
              "      <td>False</td>\n",
              "      <td>Я, другие и мир. Такая неопределенная тема. Мы...</td>\n",
              "    </tr>\n",
              "    <tr>\n",
              "      <th>5</th>\n",
              "      <td>128</td>\n",
              "      <td>False</td>\n",
              "      <td>К каждому человеку я отношусь изначально позит...</td>\n",
              "    </tr>\n",
              "    <tr>\n",
              "      <th>6</th>\n",
              "      <td>157</td>\n",
              "      <td>True</td>\n",
              "      <td>«Я, другие, мир».Все меняется в этом мире. Мен...</td>\n",
              "    </tr>\n",
              "    <tr>\n",
              "      <th>7</th>\n",
              "      <td>294</td>\n",
              "      <td>True</td>\n",
              "      <td>Приветсвую, меня зовут Никита. Мне 20 полных л...</td>\n",
              "    </tr>\n",
              "    <tr>\n",
              "      <th>8</th>\n",
              "      <td>67</td>\n",
              "      <td>False</td>\n",
              "      <td>В данном эссе я попытаюсь дать оценку своему х...</td>\n",
              "    </tr>\n",
              "    <tr>\n",
              "      <th>9</th>\n",
              "      <td>117</td>\n",
              "      <td>False</td>\n",
              "      <td>Как много всего нас окружает, и как мало мы за...</td>\n",
              "    </tr>\n",
              "  </tbody>\n",
              "</table>\n",
              "</div>"
            ],
            "text/plain": [
              "    ID  label                                               text\n",
              "0  307  False  С детства я люблю футбол. Самые теплые воспоми...\n",
              "1  243  False  Каждому человеку нужен мир. Мир- это весь земн...\n",
              "2   73  False  Я, другие и мир. Да, именно в таком порядке ме...\n",
              "3  301  False  Позиционирование себя как полноценного человек...\n",
              "4   60  False  Я, другие и мир. Такая неопределенная тема. Мы...\n",
              "5  128  False  К каждому человеку я отношусь изначально позит...\n",
              "6  157   True  «Я, другие, мир».Все меняется в этом мире. Мен...\n",
              "7  294   True  Приветсвую, меня зовут Никита. Мне 20 полных л...\n",
              "8   67  False  В данном эссе я попытаюсь дать оценку своему х...\n",
              "9  117  False  Как много всего нас окружает, и как мало мы за..."
            ]
          },
          "metadata": {
            "tags": []
          },
          "execution_count": 20
        }
      ]
    },
    {
      "cell_type": "code",
      "metadata": {
        "id": "PUnzkcT1uJSq",
        "colab_type": "code",
        "colab": {
          "base_uri": "https://localhost:8080/",
          "height": 109
        },
        "outputId": "f3a38ca6-f621-43d5-bfed-65b763f30c93"
      },
      "source": [
        "X = data['text']\n",
        "y = data['label']\n",
        "X_train, X_test , y_train,y_test = sklearn.model_selection.train_test_split(X,y,\n",
        "                                                                            test_size=0.33,\n",
        "                                                                            random_state=42)\n",
        "ros = RandomOverSampler(random_state=0)\n",
        "X_train_ros, y_train_ros = ros.fit_resample(pd.DataFrame(X_train),\n",
        "                                            pd.DataFrame(y_train))"
      ],
      "execution_count": 21,
      "outputs": [
        {
          "output_type": "stream",
          "text": [
            "/usr/local/lib/python3.6/dist-packages/sklearn/utils/validation.py:760: DataConversionWarning: A column-vector y was passed when a 1d array was expected. Please change the shape of y to (n_samples, ), for example using ravel().\n",
            "  y = column_or_1d(y, warn=True)\n",
            "/usr/local/lib/python3.6/dist-packages/sklearn/utils/deprecation.py:87: FutureWarning: Function safe_indexing is deprecated; safe_indexing is deprecated in version 0.22 and will be removed in version 0.24.\n",
            "  warnings.warn(msg, category=FutureWarning)\n"
          ],
          "name": "stderr"
        }
      ]
    },
    {
      "cell_type": "code",
      "metadata": {
        "id": "7nkrCbVM1iMU",
        "colab_type": "code",
        "colab": {}
      },
      "source": [
        "def text_prep(text):\n",
        "    text = str(text).lower()\n",
        "    text = re.sub(r'([\\'\\\"\\.\\(\\)\\!\\?\\-\\\\\\/\\,])',r' \\1 ',text)\n",
        "    return text"
      ],
      "execution_count": 0,
      "outputs": []
    },
    {
      "cell_type": "code",
      "metadata": {
        "id": "3pWtYXjX1iMY",
        "colab_type": "code",
        "colab": {}
      },
      "source": [
        "def data_preproc_for_fasttext(data):\n",
        "    text_result = ''\n",
        "    for index, row in data.iterrows():\n",
        "        label = \"__label__\" + str(row['label']) + ' '\n",
        "        text = text_prep(row['text'])\n",
        "        text_result += label+text+' \\n '\n",
        "    return text_result"
      ],
      "execution_count": 0,
      "outputs": []
    },
    {
      "cell_type": "code",
      "metadata": {
        "id": "tUi2S-Yw1iMe",
        "colab_type": "code",
        "colab": {}
      },
      "source": [
        "def write_to_file(name_txt,data_):\n",
        "    data_for_ft = data_preproc_for_fasttext(data_)\n",
        "    text_file = open(name_txt, \"w\")\n",
        "    text_file.write(data_for_ft)\n",
        "    text_file.close()"
      ],
      "execution_count": 0,
      "outputs": []
    },
    {
      "cell_type": "code",
      "metadata": {
        "id": "h24yGDQy1iMi",
        "colab_type": "code",
        "colab": {}
      },
      "source": [
        "def roc_auc(df_test,model):\n",
        "    y_pred = []\n",
        "    y_true = df_test['label'] \n",
        "    for index,row in df_test.iterrows():\n",
        "        row = text_prep(row['text'])\n",
        "        predict = model.predict(row)[0][0]\n",
        "        if(predict == '__label__' + 'True'):\n",
        "            y_pred.append(1)\n",
        "        elif(predict == '__label__' + 'False'):\n",
        "            y_pred.append(0)\n",
        "        else:\n",
        "            assert(1 == 0)\n",
        "    #print(np.array(y_pred),np.array(y_true))\n",
        "    return roc_auc_score(y_true, y_pred)"
      ],
      "execution_count": 0,
      "outputs": []
    },
    {
      "cell_type": "markdown",
      "metadata": {
        "id": "eskxOJybqs3q",
        "colab_type": "text"
      },
      "source": [
        "# Models"
      ]
    },
    {
      "cell_type": "markdown",
      "metadata": {
        "id": "804DxtLtq2ZQ",
        "colab_type": "text"
      },
      "source": [
        "## Fasttext classification(without oversampling)\n"
      ]
    },
    {
      "cell_type": "code",
      "metadata": {
        "id": "6haUFW6x1iMn",
        "colab_type": "code",
        "colab": {}
      },
      "source": [
        "#split data \n",
        "data_train, data_test = sklearn.model_selection.train_test_split(data,\n",
        "                                                                 test_size=0.33,\n",
        "                                                                 random_state=42)\n",
        "#write to file for ft\n",
        "write_to_file(\"data_train_for_ft.txt\", data_train)\n",
        "write_to_file(\"data_test_for_ft.txt\", data_test)"
      ],
      "execution_count": 0,
      "outputs": []
    },
    {
      "cell_type": "code",
      "metadata": {
        "id": "lQL1wL231iMs",
        "colab_type": "code",
        "colab": {}
      },
      "source": [
        "#Train the model\n",
        "model_ft = fasttext.train_supervised(input='data_train_for_ft.txt', \n",
        "                                  autotuneValidationFile = \"data_test_for_ft.txt\")"
      ],
      "execution_count": 0,
      "outputs": []
    },
    {
      "cell_type": "code",
      "metadata": {
        "id": "JBP1hDcE1iMw",
        "colab_type": "code",
        "outputId": "419969d9-fea6-44d5-f4e4-67704ef23d8e",
        "colab": {
          "base_uri": "https://localhost:8080/",
          "height": 35
        }
      },
      "source": [
        "#test roc_auc\n",
        "roc_auc(data_test,model_ft)"
      ],
      "execution_count": 44,
      "outputs": [
        {
          "output_type": "execute_result",
          "data": {
            "text/plain": [
              "0.7401960784313725"
            ]
          },
          "metadata": {
            "tags": []
          },
          "execution_count": 44
        }
      ]
    },
    {
      "cell_type": "markdown",
      "metadata": {
        "id": "V832lZfK1iM1",
        "colab_type": "text"
      },
      "source": [
        "## fasttext classification(with oversampling)"
      ]
    },
    {
      "cell_type": "code",
      "metadata": {
        "id": "Mi_ApSFA1iM1",
        "colab_type": "code",
        "colab": {}
      },
      "source": [
        "data_test_ros = pd.concat([y_test, X_test], axis = 1)\n",
        "data_train_ros = pd.concat([pd.DataFrame(y_train_ros, columns=['label']),\n",
        "                            pd.DataFrame(X_train_ros, columns=['text'])], axis = 1)\n",
        "\n",
        "write_to_file(\"data_train_ros_for_ft.txt\", data_train_ros)\n",
        "write_to_file(\"data_test_ros_for_ft.txt\", data_test_ros)"
      ],
      "execution_count": 0,
      "outputs": []
    },
    {
      "cell_type": "code",
      "metadata": {
        "id": "2srbvWNU1iM5",
        "colab_type": "code",
        "colab": {}
      },
      "source": [
        "model_ft_ros = fasttext.train_supervised(input='data_train_ros_for_ft.txt', \n",
        "                                      autotuneValidationFile = \"data_test_ros_for_ft.txt\")"
      ],
      "execution_count": 0,
      "outputs": []
    },
    {
      "cell_type": "code",
      "metadata": {
        "id": "PoSsmMbc1iM8",
        "colab_type": "code",
        "outputId": "15bd9c1e-d243-44be-8450-57300cb7f47e",
        "colab": {
          "base_uri": "https://localhost:8080/",
          "height": 35
        }
      },
      "source": [
        "roc_auc(data_test_ros,model_ft_ros)"
      ],
      "execution_count": 47,
      "outputs": [
        {
          "output_type": "execute_result",
          "data": {
            "text/plain": [
              "0.7887700534759358"
            ]
          },
          "metadata": {
            "tags": []
          },
          "execution_count": 47
        }
      ]
    },
    {
      "cell_type": "markdown",
      "metadata": {
        "id": "KwIT69WO1iNH",
        "colab_type": "text"
      },
      "source": [
        "## Embedding fot text and some classic models (with oversampling)"
      ]
    },
    {
      "cell_type": "code",
      "metadata": {
        "id": "6sL3tF4xNFWz",
        "colab_type": "code",
        "outputId": "cfb3459f-bc8d-4d4e-9f5c-3fdb1faf7cb7",
        "colab": {
          "base_uri": "https://localhost:8080/",
          "height": 73
        }
      },
      "source": [
        "#load w2w emb for words\n",
        "ru_emb = KeyedVectors.load_word2vec_format(\"cc.ru.300.vec\")"
      ],
      "execution_count": 18,
      "outputs": [
        {
          "output_type": "stream",
          "text": [
            "/usr/local/lib/python3.6/dist-packages/smart_open/smart_open_lib.py:253: UserWarning: This function is deprecated, use smart_open.open instead. See the migration notes for details: https://github.com/RaRe-Technologies/smart_open/blob/master/README.rst#migrating-to-the-new-open-function\n",
            "  'See the migration notes for details: %s' % _MIGRATION_NOTES_URL\n"
          ],
          "name": "stderr"
        }
      ]
    },
    {
      "cell_type": "markdown",
      "metadata": {
        "id": "2gmf6_-iyhfu",
        "colab_type": "text"
      },
      "source": [
        "### Sum w2w emb and some classic models"
      ]
    },
    {
      "cell_type": "code",
      "metadata": {
        "id": "pQH4MQoL_zJ1",
        "colab_type": "code",
        "colab": {}
      },
      "source": [
        "def vectorize_sum_w2w(text):\n",
        "    \"\"\"\n",
        "    implement a function that converts preprocessed comment to a sum of token vectors\n",
        "    \"\"\"\n",
        "    tokenizer = nltk.tokenize.WordPunctTokenizer()\n",
        "    list_of_tokens = tokenizer.tokenize(text_prep(text))\n",
        "\n",
        "    features = np.zeros(300)\n",
        "    \n",
        "    for token in list_of_tokens:\n",
        "      if token in ru_emb.vocab:\n",
        "        features += ru_emb[token]\n",
        "      else:\n",
        "        pass\n",
        "\n",
        "    return features"
      ],
      "execution_count": 0,
      "outputs": []
    },
    {
      "cell_type": "code",
      "metadata": {
        "id": "dgCOOJcOFu9b",
        "colab_type": "code",
        "colab": {}
      },
      "source": [
        "X_train_ros_w2v = np.stack([vectorize_sum_w2w(text) for text in X_train_ros])\n",
        "X_test_w2v = np.stack([vectorize_sum_w2w(text) for text in X_test])"
      ],
      "execution_count": 0,
      "outputs": []
    },
    {
      "cell_type": "markdown",
      "metadata": {
        "id": "4kG-8eYjwHg2",
        "colab_type": "text"
      },
      "source": [
        "#### RandomForestClassifier()"
      ]
    },
    {
      "cell_type": "code",
      "metadata": {
        "id": "qsmGjZMwTVk2",
        "colab_type": "code",
        "outputId": "93389818-0f7b-4824-ef7e-cc55e92f1904",
        "colab": {
          "base_uri": "https://localhost:8080/",
          "height": 161
        }
      },
      "source": [
        "rf = RandomForestClassifier()\n",
        "rf.fit(X_train_ros_w2v,y_train_ros)"
      ],
      "execution_count": 64,
      "outputs": [
        {
          "output_type": "execute_result",
          "data": {
            "text/plain": [
              "RandomForestClassifier(bootstrap=True, ccp_alpha=0.0, class_weight=None,\n",
              "                       criterion='gini', max_depth=None, max_features='auto',\n",
              "                       max_leaf_nodes=None, max_samples=None,\n",
              "                       min_impurity_decrease=0.0, min_impurity_split=None,\n",
              "                       min_samples_leaf=1, min_samples_split=2,\n",
              "                       min_weight_fraction_leaf=0.0, n_estimators=100,\n",
              "                       n_jobs=None, oob_score=False, random_state=None,\n",
              "                       verbose=0, warm_start=False)"
            ]
          },
          "metadata": {
            "tags": []
          },
          "execution_count": 64
        }
      ]
    },
    {
      "cell_type": "code",
      "metadata": {
        "id": "8SaXwaFqWJQG",
        "colab_type": "code",
        "colab": {}
      },
      "source": [
        "predict = rf.predict(X_test_w2v)"
      ],
      "execution_count": 0,
      "outputs": []
    },
    {
      "cell_type": "code",
      "metadata": {
        "id": "oZMW3ypbXuln",
        "colab_type": "code",
        "outputId": "145ddc44-094a-401c-a45d-5b54485c6e75",
        "colab": {
          "base_uri": "https://localhost:8080/",
          "height": 35
        }
      },
      "source": [
        "roc_auc_score(y_test,predict)\n",
        "#we got a good result, so let's try to choose the parameters"
      ],
      "execution_count": 66,
      "outputs": [
        {
          "output_type": "execute_result",
          "data": {
            "text/plain": [
              "0.8114973262032085"
            ]
          },
          "metadata": {
            "tags": []
          },
          "execution_count": 66
        }
      ]
    },
    {
      "cell_type": "markdown",
      "metadata": {
        "id": "OFfau-1Awci9",
        "colab_type": "text"
      },
      "source": [
        "##### GridSearchCV()"
      ]
    },
    {
      "cell_type": "code",
      "metadata": {
        "id": "cv7bhu8ZvE2r",
        "colab_type": "code",
        "outputId": "80f1f089-1b49-46c1-ccbc-95f1a5a76fda",
        "colab": {
          "base_uri": "https://localhost:8080/",
          "height": 629
        }
      },
      "source": [
        "# Number of trees in random forest\n",
        "n_estimators = [int(x) for x in np.linspace(start = 50, stop = 1000, num = 10)]\n",
        "# Number of features to consider at every split\n",
        "max_features = ['auto', 'sqrt']\n",
        "# Maximum number of levels in tree\n",
        "max_depth = [int(x) for x in np.linspace(10, 110, num = 11)]\n",
        "max_depth.append(None)\n",
        "# Minimum number of samples required to split a node\n",
        "min_samples_split = [2, 5, 10]\n",
        "# Minimum number of samples required at each leaf node\n",
        "min_samples_leaf = [1, 2, 4]\n",
        "# Method of selecting samples for training each tree\n",
        "bootstrap = [True, False]\n",
        "# Create the random grid\n",
        "random_grid = {'n_estimators': n_estimators,\n",
        "               'max_features': max_features,\n",
        "               'max_depth': max_depth,\n",
        "               'min_samples_split': min_samples_split,\n",
        "               'min_samples_leaf': min_samples_leaf,\n",
        "               'bootstrap': bootstrap}\n",
        "\n",
        "# Use the random grid to search for best hyperparameters\n",
        "# First create the base model to tune\n",
        "rf = RandomForestClassifier()\n",
        "# Random search of parameters, using 3 fold cross validation, \n",
        "# search across 100 different combinations, and use all available cores\n",
        "rf_random = RandomizedSearchCV(estimator = rf, param_distributions = random_grid, n_iter = 100, cv = 3, verbose=2, random_state=42, n_jobs = -1)\n",
        "# Fit the random search model\n",
        "rf_random.fit(X_train_ros_w2v,y_train_ros)"
      ],
      "execution_count": 80,
      "outputs": [
        {
          "output_type": "stream",
          "text": [
            "Fitting 3 folds for each of 100 candidates, totalling 300 fits\n"
          ],
          "name": "stdout"
        },
        {
          "output_type": "stream",
          "text": [
            "[Parallel(n_jobs=-1)]: Using backend LokyBackend with 4 concurrent workers.\n",
            "[Parallel(n_jobs=-1)]: Done  33 tasks      | elapsed:   12.7s\n",
            "[Parallel(n_jobs=-1)]: Done 154 tasks      | elapsed:   52.6s\n",
            "[Parallel(n_jobs=-1)]: Done 300 out of 300 | elapsed:  1.7min finished\n"
          ],
          "name": "stderr"
        },
        {
          "output_type": "execute_result",
          "data": {
            "text/plain": [
              "RandomizedSearchCV(cv=3, error_score=nan,\n",
              "                   estimator=RandomForestClassifier(bootstrap=True,\n",
              "                                                    ccp_alpha=0.0,\n",
              "                                                    class_weight=None,\n",
              "                                                    criterion='gini',\n",
              "                                                    max_depth=None,\n",
              "                                                    max_features='auto',\n",
              "                                                    max_leaf_nodes=None,\n",
              "                                                    max_samples=None,\n",
              "                                                    min_impurity_decrease=0.0,\n",
              "                                                    min_impurity_split=None,\n",
              "                                                    min_samples_leaf=1,\n",
              "                                                    min_samples_split=2,\n",
              "                                                    min_weight_fraction_leaf=0.0,\n",
              "                                                    n_estimators=100,\n",
              "                                                    n_jobs...\n",
              "                   iid='deprecated', n_iter=100, n_jobs=-1,\n",
              "                   param_distributions={'bootstrap': [True, False],\n",
              "                                        'max_depth': [10, 20, 30, 40, 50, 60,\n",
              "                                                      70, 80, 90, 100, 110,\n",
              "                                                      None],\n",
              "                                        'max_features': ['auto', 'sqrt'],\n",
              "                                        'min_samples_leaf': [1, 2, 4],\n",
              "                                        'min_samples_split': [2, 5, 10],\n",
              "                                        'n_estimators': [50, 155, 261, 366, 472,\n",
              "                                                         577, 683, 788, 894,\n",
              "                                                         1000]},\n",
              "                   pre_dispatch='2*n_jobs', random_state=42, refit=True,\n",
              "                   return_train_score=False, scoring=None, verbose=2)"
            ]
          },
          "metadata": {
            "tags": []
          },
          "execution_count": 80
        }
      ]
    },
    {
      "cell_type": "code",
      "metadata": {
        "id": "P7G9nMNfv2R9",
        "colab_type": "code",
        "colab": {
          "base_uri": "https://localhost:8080/",
          "height": 125
        },
        "outputId": "71f2fd2c-d7f3-4dd2-d772-8482c0f2d9e6"
      },
      "source": [
        "rf_random.best_params_"
      ],
      "execution_count": 82,
      "outputs": [
        {
          "output_type": "execute_result",
          "data": {
            "text/plain": [
              "{'bootstrap': False,\n",
              " 'max_depth': 80,\n",
              " 'max_features': 'sqrt',\n",
              " 'min_samples_leaf': 4,\n",
              " 'min_samples_split': 10,\n",
              " 'n_estimators': 155}"
            ]
          },
          "metadata": {
            "tags": []
          },
          "execution_count": 82
        }
      ]
    },
    {
      "cell_type": "code",
      "metadata": {
        "id": "4XlgYGygwvDd",
        "colab_type": "code",
        "outputId": "b4553e2d-5b66-4e10-bc01-260a89fc2cd5",
        "colab": {
          "base_uri": "https://localhost:8080/",
          "height": 161
        }
      },
      "source": [
        "rf_random.best_estimator_.fit(X_train_ros_w2v,y_train_ros)"
      ],
      "execution_count": 88,
      "outputs": [
        {
          "output_type": "execute_result",
          "data": {
            "text/plain": [
              "RandomForestClassifier(bootstrap=False, ccp_alpha=0.0, class_weight=None,\n",
              "                       criterion='gini', max_depth=80, max_features='sqrt',\n",
              "                       max_leaf_nodes=None, max_samples=None,\n",
              "                       min_impurity_decrease=0.0, min_impurity_split=None,\n",
              "                       min_samples_leaf=4, min_samples_split=10,\n",
              "                       min_weight_fraction_leaf=0.0, n_estimators=155,\n",
              "                       n_jobs=None, oob_score=False, random_state=None,\n",
              "                       verbose=0, warm_start=False)"
            ]
          },
          "metadata": {
            "tags": []
          },
          "execution_count": 88
        }
      ]
    },
    {
      "cell_type": "code",
      "metadata": {
        "id": "rq9mSK4ExsdH",
        "colab_type": "code",
        "outputId": "4aeefa05-0ce1-4c0c-e9b3-82e9acd5300e",
        "colab": {
          "base_uri": "https://localhost:8080/",
          "height": 35
        }
      },
      "source": [
        "predict = rf_random.best_estimator_.predict(X_test_w2v)\n",
        "roc_auc_score(y_test,predict)\n",
        "#good model"
      ],
      "execution_count": 89,
      "outputs": [
        {
          "output_type": "execute_result",
          "data": {
            "text/plain": [
              "0.8342245989304813"
            ]
          },
          "metadata": {
            "tags": []
          },
          "execution_count": 89
        }
      ]
    },
    {
      "cell_type": "markdown",
      "metadata": {
        "id": "swLVYYPEnmzv",
        "colab_type": "text"
      },
      "source": [
        "### Sum w2w emb with idf coef and some classic models"
      ]
    },
    {
      "cell_type": "code",
      "metadata": {
        "id": "EYE1NIdqYkfJ",
        "colab_type": "code",
        "colab": {}
      },
      "source": [
        "tfidf = TfidfVectorizer(lowercase=False)\n",
        "tfidf.fit_transform(X_train)\n",
        "\n",
        "# dict key:word and value:tf-idf score\n",
        "word2tfidf = dict(zip(tfidf.get_feature_names(), tfidf.idf_))\n",
        "\n",
        "def vectorize_sum_w2w_idf(text):\n",
        "    \"\"\"\n",
        "    implement a function that converts preprocessed comment to a sum of token vectors\n",
        "    \"\"\"\n",
        "    tokenizer = nltk.tokenize.WordPunctTokenizer()\n",
        "    list_of_tokens = tokenizer.tokenize(text_prep(text))\n",
        "\n",
        "    features = np.zeros(300)\n",
        "    \n",
        "    for token in list_of_tokens:\n",
        "      if token in ru_emb.vocab:\n",
        "        if token in word2tfidf:\n",
        "          idf = word2tfidf[token]\n",
        "        else:\n",
        "          idf = 0\n",
        "        features += idf *np.array(ru_emb[token])\n",
        "      else:\n",
        "        pass\n",
        "\n",
        "    return features\n"
      ],
      "execution_count": 0,
      "outputs": []
    },
    {
      "cell_type": "code",
      "metadata": {
        "id": "GX6P6o1Y-htR",
        "colab_type": "code",
        "colab": {}
      },
      "source": [
        "X_train_ros_w2v_idf = np.stack([vectorize_sum_w2w_idf(text) for text in X_train_ros])\n",
        "X_test_w2v_idf = np.stack([vectorize_sum_w2w_idf(text) for text in X_test])"
      ],
      "execution_count": 0,
      "outputs": []
    },
    {
      "cell_type": "markdown",
      "metadata": {
        "id": "bwBSkYrC2vo0",
        "colab_type": "text"
      },
      "source": [
        "#### RandomForestClassifier"
      ]
    },
    {
      "cell_type": "code",
      "metadata": {
        "id": "fdaFS4Yw_dvT",
        "colab_type": "code",
        "outputId": "affd2b83-7294-4fac-cc36-449af032441b",
        "colab": {
          "base_uri": "https://localhost:8080/",
          "height": 35
        }
      },
      "source": [
        "wv_idf_model = RandomForestClassifier()\n",
        "wv_idf_model.fit(X_train_ros_w2v_idf,y_train_ros)\n",
        "predict = wv_idf_model.predict(X_test_w2v_idf)\n",
        "roc_auc_score(y_test,predict)\n",
        "#the result with idf turned out worse"
      ],
      "execution_count": 92,
      "outputs": [
        {
          "output_type": "execute_result",
          "data": {
            "text/plain": [
              "0.7009803921568628"
            ]
          },
          "metadata": {
            "tags": []
          },
          "execution_count": 92
        }
      ]
    },
    {
      "cell_type": "markdown",
      "metadata": {
        "id": "0ikz3osUBWCv",
        "colab_type": "text"
      },
      "source": [
        "# RandomSearchCV(xgb) with only sum emb (without idf coef) and oversamling"
      ]
    },
    {
      "cell_type": "code",
      "metadata": {
        "id": "Zp_EnuH7CaG4",
        "colab_type": "code",
        "outputId": "8ea6a834-e2c7-4e69-fd0f-02a4f4063036",
        "colab": {
          "base_uri": "https://localhost:8080/",
          "height": 269
        }
      },
      "source": [
        "%%time\n",
        "\n",
        "params = {\n",
        "        \"learning_rate\":sc.uniform(0.05,0.3),\n",
        "        'max_depth': sc.randint(2,15),\n",
        "        'n_estimators' : sc.randint(5,500),\n",
        "        'min_child_weight' : [ 1, 3, 5, 7 ],\n",
        "        'gamma': sc.uniform(0.0,0.5)\n",
        "        }\n",
        "\n",
        "x_model = xgb.XGBClassifier(objective='binary:logistic', eval_metric='logloss', eta=0.02, n_jobs=-1)\n",
        "\n",
        "xgb_random_search = RandomizedSearchCV(x_model, param_distributions = params,\n",
        "                                       n_iter=30, scoring = 'neg_log_loss', \n",
        "                                       n_jobs = -1, cv=3, verbose=10)\n",
        "xgb_random_search.fit(X_train_ros_w2v,y_train_ros)\n"
      ],
      "execution_count": 98,
      "outputs": [
        {
          "output_type": "stream",
          "text": [
            "Fitting 3 folds for each of 30 candidates, totalling 90 fits\n"
          ],
          "name": "stdout"
        },
        {
          "output_type": "stream",
          "text": [
            "[Parallel(n_jobs=-1)]: Using backend LokyBackend with 4 concurrent workers.\n",
            "[Parallel(n_jobs=-1)]: Done   5 tasks      | elapsed:    0.5s\n",
            "[Parallel(n_jobs=-1)]: Done  10 tasks      | elapsed:    0.9s\n",
            "[Parallel(n_jobs=-1)]: Done  17 tasks      | elapsed:    1.9s\n",
            "[Parallel(n_jobs=-1)]: Done  24 tasks      | elapsed:    2.8s\n",
            "[Parallel(n_jobs=-1)]: Done  33 tasks      | elapsed:    3.8s\n",
            "[Parallel(n_jobs=-1)]: Done  42 tasks      | elapsed:    5.3s\n",
            "[Parallel(n_jobs=-1)]: Done  53 tasks      | elapsed:    6.2s\n",
            "[Parallel(n_jobs=-1)]: Done  64 tasks      | elapsed:    7.0s\n",
            "[Parallel(n_jobs=-1)]: Done  77 tasks      | elapsed:    8.3s\n",
            "[Parallel(n_jobs=-1)]: Done  90 out of  90 | elapsed:   10.5s finished\n"
          ],
          "name": "stderr"
        },
        {
          "output_type": "stream",
          "text": [
            "CPU times: user 1.76 s, sys: 40.9 ms, total: 1.8 s\n",
            "Wall time: 10.9 s\n"
          ],
          "name": "stdout"
        }
      ]
    },
    {
      "cell_type": "code",
      "metadata": {
        "id": "cnH9coWxEQii",
        "colab_type": "code",
        "colab": {}
      },
      "source": [
        "params = {}\n",
        "params['objective'] = 'binary:logistic'\n",
        "params['eval_metric'] = 'logloss'\n",
        "params['eta'] = 0.02\n",
        "params['max_depth'] = xgb_random_search.best_params_['max_depth']\n",
        "params['n_estimators'] = xgb_random_search.best_params_['n_estimators']\n",
        "params['learning_rate'] = xgb_random_search.best_params_['learning_rate']\n",
        "params['min_child_weight'] = xgb_random_search.best_params_['min_child_weight']\n",
        "params['gamma'] = xgb_random_search.best_params_['gamma']\n",
        "\n",
        "d_train = xgb.DMatrix(X_train_ros_w2v, label= y_train_ros)\n",
        "d_test = xgb.DMatrix(X_test_w2v, label = y_test)\n"
      ],
      "execution_count": 0,
      "outputs": []
    },
    {
      "cell_type": "code",
      "metadata": {
        "id": "LI5I9T7oFrK7",
        "colab_type": "code",
        "outputId": "5b463177-23ca-41c5-f0af-5a91d2b50d06",
        "colab": {
          "base_uri": "https://localhost:8080/",
          "height": 35
        }
      },
      "source": [
        "bst = xgb.train(params, d_train)\n",
        "\n",
        "predict_y = bst.predict(d_test)\n",
        "roc_auc_score(y_test,predict_y)\n",
        "#Grate model"
      ],
      "execution_count": 100,
      "outputs": [
        {
          "output_type": "execute_result",
          "data": {
            "text/plain": [
              "0.8912655971479502"
            ]
          },
          "metadata": {
            "tags": []
          },
          "execution_count": 100
        }
      ]
    },
    {
      "cell_type": "code",
      "metadata": {
        "id": "K0FlHivm_nM6",
        "colab_type": "code",
        "colab": {}
      },
      "source": [
        "def make_sub(raw_test_data,model1,model2):\n",
        "  return (model1.predict(raw_test_data),\n",
        "          model2.predict(raw_test_data))"
      ],
      "execution_count": 0,
      "outputs": []
    },
    {
      "cell_type": "code",
      "metadata": {
        "id": "P-pSW-HQBecS",
        "colab_type": "code",
        "colab": {
          "base_uri": "https://localhost:8080/",
          "height": 359
        },
        "outputId": "a07bff4d-8d6e-422c-f888-2f94c8b683d7"
      },
      "source": [
        "%%bash\n",
        "git init\n",
        "git config -- global user.email “kumeiko.se@phystech.edu”\n",
        "git config -- global user.name “purgen219”\n",
        "\n",
        "git add fasttext.ipynb\n",
        "git commit -m 'First commit'\n",
        "git remote add origin https://github.com/purgen219/Text_classification.git\n",
        "\n",
        "git push -u origin master"
      ],
      "execution_count": 104,
      "outputs": [
        {
          "output_type": "stream",
          "text": [
            "Reinitialized existing Git repository in /content/.git/\n"
          ],
          "name": "stdout"
        },
        {
          "output_type": "stream",
          "text": [
            "error: key does not contain a section: global\n",
            "error: key does not contain a section: global\n",
            "fatal: pathspec 'fasttext.ipynb' did not match any files\n",
            "\n",
            "*** Please tell me who you are.\n",
            "\n",
            "Run\n",
            "\n",
            "  git config --global user.email \"you@example.com\"\n",
            "  git config --global user.name \"Your Name\"\n",
            "\n",
            "to set your account's default identity.\n",
            "Omit --global to set the identity only in this repository.\n",
            "\n",
            "fatal: unable to auto-detect email address (got 'root@2c1e39bbe0f7.(none)')\n",
            "fatal: remote origin already exists.\n",
            "error: src refspec master does not match any.\n",
            "error: failed to push some refs to 'https://github.com/purgen219/Text_classification.git'\n"
          ],
          "name": "stderr"
        }
      ]
    },
    {
      "cell_type": "code",
      "metadata": {
        "id": "yk7CM8maElrb",
        "colab_type": "code",
        "colab": {}
      },
      "source": [
        ""
      ],
      "execution_count": 0,
      "outputs": []
    }
  ]
}