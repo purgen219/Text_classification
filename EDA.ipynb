{
  "nbformat": 4,
  "nbformat_minor": 0,
  "metadata": {
    "kernelspec": {
      "display_name": "Python 3",
      "language": "python",
      "name": "python3"
    },
    "language_info": {
      "codemirror_mode": {
        "name": "ipython",
        "version": 3
      },
      "file_extension": ".py",
      "mimetype": "text/x-python",
      "name": "python",
      "nbconvert_exporter": "python",
      "pygments_lexer": "ipython3",
      "version": "3.6.8"
    },
    "colab": {
      "name": "EDA.ipynb",
      "provenance": [],
      "toc_visible": true,
      "include_colab_link": true
    }
  },
  "cells": [
    {
      "cell_type": "markdown",
      "metadata": {
        "id": "view-in-github",
        "colab_type": "text"
      },
      "source": [
        "<a href=\"https://colab.research.google.com/github/purgen219/Text_classification/blob/master/EDA.ipynb\" target=\"_parent\"><img src=\"https://colab.research.google.com/assets/colab-badge.svg\" alt=\"Open In Colab\"/></a>"
      ]
    },
    {
      "cell_type": "code",
      "metadata": {
        "id": "6ACgh7g-C75K",
        "colab_type": "code",
        "colab": {}
      },
      "source": [
        "#lib\n",
        "import pandas as pd\n",
        "import numpy as np"
      ],
      "execution_count": 0,
      "outputs": []
    },
    {
      "cell_type": "code",
      "metadata": {
        "id": "2992XXRRCqdp",
        "colab_type": "code",
        "colab": {
          "base_uri": "https://localhost:8080/",
          "height": 359
        },
        "outputId": "9db5ad14-58c3-4a88-9af9-1dae199d640d"
      },
      "source": [
        "data = pd.read_csv('PsyHack_RUDN_train.csv', sep='\\t' , encoding= 'utf-8')\n",
        "data.head(10)"
      ],
      "execution_count": 2,
      "outputs": [
        {
          "output_type": "execute_result",
          "data": {
            "text/html": [
              "<div>\n",
              "<style scoped>\n",
              "    .dataframe tbody tr th:only-of-type {\n",
              "        vertical-align: middle;\n",
              "    }\n",
              "\n",
              "    .dataframe tbody tr th {\n",
              "        vertical-align: top;\n",
              "    }\n",
              "\n",
              "    .dataframe thead th {\n",
              "        text-align: right;\n",
              "    }\n",
              "</style>\n",
              "<table border=\"1\" class=\"dataframe\">\n",
              "  <thead>\n",
              "    <tr style=\"text-align: right;\">\n",
              "      <th></th>\n",
              "      <th>ID</th>\n",
              "      <th>label</th>\n",
              "      <th>text</th>\n",
              "    </tr>\n",
              "  </thead>\n",
              "  <tbody>\n",
              "    <tr>\n",
              "      <th>0</th>\n",
              "      <td>307</td>\n",
              "      <td>Non-depression</td>\n",
              "      <td>С детства я люблю футбол. Самые теплые воспоми...</td>\n",
              "    </tr>\n",
              "    <tr>\n",
              "      <th>1</th>\n",
              "      <td>243</td>\n",
              "      <td>Non-depression</td>\n",
              "      <td>Каждому человеку нужен мир. Мир- это весь земн...</td>\n",
              "    </tr>\n",
              "    <tr>\n",
              "      <th>2</th>\n",
              "      <td>73</td>\n",
              "      <td>Non-depression</td>\n",
              "      <td>Я, другие и мир. Да, именно в таком порядке ме...</td>\n",
              "    </tr>\n",
              "    <tr>\n",
              "      <th>3</th>\n",
              "      <td>301</td>\n",
              "      <td>Non-depression</td>\n",
              "      <td>Позиционирование себя как полноценного человек...</td>\n",
              "    </tr>\n",
              "    <tr>\n",
              "      <th>4</th>\n",
              "      <td>60</td>\n",
              "      <td>Non-depression</td>\n",
              "      <td>Я, другие и мир. Такая неопределенная тема. Мы...</td>\n",
              "    </tr>\n",
              "    <tr>\n",
              "      <th>5</th>\n",
              "      <td>128</td>\n",
              "      <td>Non-depression</td>\n",
              "      <td>К каждому человеку я отношусь изначально позит...</td>\n",
              "    </tr>\n",
              "    <tr>\n",
              "      <th>6</th>\n",
              "      <td>157</td>\n",
              "      <td>Depression</td>\n",
              "      <td>«Я, другие, мир».Все меняется в этом мире. Мен...</td>\n",
              "    </tr>\n",
              "    <tr>\n",
              "      <th>7</th>\n",
              "      <td>294</td>\n",
              "      <td>Depression</td>\n",
              "      <td>Приветсвую, меня зовут Никита. Мне 20 полных л...</td>\n",
              "    </tr>\n",
              "    <tr>\n",
              "      <th>8</th>\n",
              "      <td>67</td>\n",
              "      <td>Non-depression</td>\n",
              "      <td>В данном эссе я попытаюсь дать оценку своему х...</td>\n",
              "    </tr>\n",
              "    <tr>\n",
              "      <th>9</th>\n",
              "      <td>117</td>\n",
              "      <td>Non-depression</td>\n",
              "      <td>Как много всего нас окружает, и как мало мы за...</td>\n",
              "    </tr>\n",
              "  </tbody>\n",
              "</table>\n",
              "</div>"
            ],
            "text/plain": [
              "    ID           label                                               text\n",
              "0  307  Non-depression  С детства я люблю футбол. Самые теплые воспоми...\n",
              "1  243  Non-depression  Каждому человеку нужен мир. Мир- это весь земн...\n",
              "2   73  Non-depression  Я, другие и мир. Да, именно в таком порядке ме...\n",
              "3  301  Non-depression  Позиционирование себя как полноценного человек...\n",
              "4   60  Non-depression  Я, другие и мир. Такая неопределенная тема. Мы...\n",
              "5  128  Non-depression  К каждому человеку я отношусь изначально позит...\n",
              "6  157      Depression  «Я, другие, мир».Все меняется в этом мире. Мен...\n",
              "7  294      Depression  Приветсвую, меня зовут Никита. Мне 20 полных л...\n",
              "8   67  Non-depression  В данном эссе я попытаюсь дать оценку своему х...\n",
              "9  117  Non-depression  Как много всего нас окружает, и как мало мы за..."
            ]
          },
          "metadata": {
            "tags": []
          },
          "execution_count": 2
        }
      ]
    },
    {
      "cell_type": "code",
      "metadata": {
        "id": "SRTdmLvJD8_e",
        "colab_type": "code",
        "colab": {
          "base_uri": "https://localhost:8080/",
          "height": 35
        },
        "outputId": "72795222-5f52-4ac6-8825-a9ef62a51f5c"
      },
      "source": [
        "len(set(data['ID'])) == len(data['ID'])\n"
      ],
      "execution_count": 9,
      "outputs": [
        {
          "output_type": "execute_result",
          "data": {
            "text/plain": [
              "True"
            ]
          },
          "metadata": {
            "tags": []
          },
          "execution_count": 9
        }
      ]
    },
    {
      "cell_type": "code",
      "metadata": {
        "id": "bWi3AL07Cqd9",
        "colab_type": "code",
        "colab": {
          "base_uri": "https://localhost:8080/",
          "height": 197
        },
        "outputId": "eed8c8e2-190d-4282-ccc1-1bed1576dfec"
      },
      "source": [
        "data.info()"
      ],
      "execution_count": 12,
      "outputs": [
        {
          "output_type": "stream",
          "text": [
            "<class 'pandas.core.frame.DataFrame'>\n",
            "RangeIndex: 221 entries, 0 to 220\n",
            "Data columns (total 3 columns):\n",
            " #   Column  Non-Null Count  Dtype \n",
            "---  ------  --------------  ----- \n",
            " 0   ID      221 non-null    int64 \n",
            " 1   label   221 non-null    object\n",
            " 2   text    221 non-null    object\n",
            "dtypes: int64(1), object(2)\n",
            "memory usage: 5.3+ KB\n"
          ],
          "name": "stdout"
        }
      ]
    },
    {
      "cell_type": "code",
      "metadata": {
        "id": "sTYS5qIqCqeB",
        "colab_type": "code",
        "colab": {}
      },
      "source": [
        "data_shape = data.shape"
      ],
      "execution_count": 0,
      "outputs": []
    },
    {
      "cell_type": "code",
      "metadata": {
        "id": "eS-Wq9kOCqeF",
        "colab_type": "code",
        "colab": {}
      },
      "source": [
        "num_nd = sum(data['label'] == \"Non-depression\")"
      ],
      "execution_count": 0,
      "outputs": []
    },
    {
      "cell_type": "code",
      "metadata": {
        "id": "3BfdvXi_CqeJ",
        "colab_type": "code",
        "colab": {}
      },
      "source": [
        "num_d = sum(data['label'] == \"Depression\")"
      ],
      "execution_count": 0,
      "outputs": []
    },
    {
      "cell_type": "code",
      "metadata": {
        "id": "OgKXd2DhCqeO",
        "colab_type": "code",
        "colab": {
          "base_uri": "https://localhost:8080/",
          "height": 53
        },
        "outputId": "42a3432b-f1aa-4ced-b0f4-acaf421b3760"
      },
      "source": [
        "print(num_nd, num_d)\n",
        "print(\"emp : \" , data.shape[0] - (num_nd + num_d))\n",
        "#class imbalance"
      ],
      "execution_count": 16,
      "outputs": [
        {
          "output_type": "stream",
          "text": [
            "158 63\n",
            "emp :  0\n"
          ],
          "name": "stdout"
        }
      ]
    },
    {
      "cell_type": "code",
      "metadata": {
        "id": "CvTlxYl6CqeT",
        "colab_type": "code",
        "colab": {
          "base_uri": "https://localhost:8080/",
          "height": 281
        },
        "outputId": "dc7044f4-4fd9-4eb8-8fbb-633f231df7ef"
      },
      "source": [
        "size_text = []\n",
        "for text in data.text:\n",
        "    size_text.append(len(text.split()))\n",
        "df = pd.DataFrame(size_text)\n",
        "hist = df.hist(bins = 100)"
      ],
      "execution_count": 17,
      "outputs": [
        {
          "output_type": "display_data",
          "data": {
            "image/png": "[encoded data removed]",
            "text/plain": [
              "<Figure size 432x288 with 1 Axes>"
            ]
          },
          "metadata": {
            "tags": [],
            "needs_background": "light"
          }
        }
      ]
    },
    {
      "cell_type": "code",
      "metadata": {
        "id": "7G85L0_jCqeY",
        "colab_type": "code",
        "colab": {
          "base_uri": "https://localhost:8080/",
          "height": 53
        },
        "outputId": "6220cf54-2c79-465e-ff6b-0cf811d2befa"
      },
      "source": [
        "df.mean()\n",
        "#texts are few, but they are long"
      ],
      "execution_count": 18,
      "outputs": [
        {
          "output_type": "execute_result",
          "data": {
            "text/plain": [
              "0    318.538462\n",
              "dtype: float64"
            ]
          },
          "metadata": {
            "tags": []
          },
          "execution_count": 18
        }
      ]
    },
    {
      "cell_type": "markdown",
      "metadata": {
        "id": "q5knWE50Cqed",
        "colab_type": "text"
      },
      "source": [
        "*ideas* :"
      ]
    },
    {
      "cell_type": "markdown",
      "metadata": {
        "id": "sL_lugmwCqed",
        "colab_type": "text"
      },
      "source": [
        "1.   Fasttext_classif\n",
        "2.   few texts => it is difficult to learn something so use pretrain emb and models\n",
        "3.   sum emb + coef from TF-IDF\n",
        "4.   ruBERT + some heuristics because the texts are long\n",
        "5.   Oversampling"
      ]
    },
    {
      "cell_type": "code",
      "metadata": {
        "id": "KTFS2bU5Cqen",
        "colab_type": "code",
        "colab": {}
      },
      "source": [
        ""
      ],
      "execution_count": 0,
      "outputs": []
    }
  ]
}